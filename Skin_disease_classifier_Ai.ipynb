{
  "nbformat": 4,
  "nbformat_minor": 0,
  "metadata": {
    "colab": {
      "provenance": [],
      "gpuType": "T4"
    },
    "kernelspec": {
      "name": "python3",
      "display_name": "Python 3"
    },
    "language_info": {
      "name": "python"
    },
    "accelerator": "GPU"
  },
  "cells": [
    {
      "cell_type": "code",
      "execution_count": 24,
      "metadata": {
        "id": "XK_1BRKPFFam"
      },
      "outputs": [],
      "source": [
        "from tensorflow.keras.preprocessing.image import img_to_array\n",
        "from tensorflow.keras.applications import MobileNetV2\n",
        "from tensorflow.keras.layers import AveragePooling2D\n",
        "from tensorflow.keras.layers import Dropout\n",
        "from tensorflow.keras.layers import Flatten\n",
        "from tensorflow.keras.layers import Dense\n",
        "from tensorflow.keras.layers import Input\n",
        "from tensorflow.keras.models import Model\n",
        "from keras.models import Sequential\n",
        "\n",
        "from sklearn.preprocessing import MultiLabelBinarizer\n",
        "from sklearn.model_selection import train_test_split\n",
        "from sklearn.metrics import classification_report\n",
        "\n",
        "import tensorflow as tf\n",
        "import matplotlib.pyplot as plt\n",
        "import numpy as np\n",
        "import random\n",
        "import cv2\n",
        "import os"
      ]
    },
    {
      "cell_type": "code",
      "source": [
        "from google.colab import drive\n",
        "drive.mount('/content/drive')"
      ],
      "metadata": {
        "colab": {
          "base_uri": "https://localhost:8080/"
        },
        "id": "9ORcFHxQFOnn",
        "outputId": "34a85e33-35a7-4084-ee35-c71f2fbe050b"
      },
      "execution_count": 2,
      "outputs": [
        {
          "output_type": "stream",
          "name": "stdout",
          "text": [
            "Mounted at /content/drive\n"
          ]
        }
      ]
    },
    {
      "cell_type": "code",
      "source": [
        "print('os.getcwd():',os.getcwd())\n",
        "os.chdir('/content/drive/MyDrive')\n",
        "print('os.chdir():',os.getcwd())\n",
        "print(os.listdir())"
      ],
      "metadata": {
        "colab": {
          "base_uri": "https://localhost:8080/"
        },
        "id": "WVzkC3jVFQT1",
        "outputId": "fa6baded-82c8-4eb9-926c-897e44f49ba8"
      },
      "execution_count": 3,
      "outputs": [
        {
          "output_type": "stream",
          "name": "stdout",
          "text": [
            "os.getcwd(): /content\n",
            "os.chdir(): /content/drive/MyDrive\n",
            "['12215332 팽준호 편입학 수강지도 내용.pdf', 'Colab Notebooks', '추억', 'Classroom', \"Bill Lubanovic - Introducing Python_ Modern Computing in Simple Packages (2019, O'Reilly Media) - libgen.li.pdf\", '파이썬 tkinter', 'Pandas_Cheat_Sheet.pdf', 'DataScience', 'Python23Summer', '3.1.19grade.zip', '인공지능 프로그래밍 구현(2학기).ipynb', 'F710-FF7FC-B96E-9B0CD.pdf', '별첨1. 개인정보 수집이용제공동의서(수혜인력).pdf', '별첨2. 참가자_서약서.pdf', '통계학.zip', '컴퓨터 구조론.zip', '자료구조.zip', 'CS231N.zip', '확률론+c++.zip', '증명사진.zip', '큐.gslides', 'train', 'data.zip']\n"
          ]
        }
      ]
    },
    {
      "cell_type": "code",
      "source": [
        " os.makedirs('/content/dataset')"
      ],
      "metadata": {
        "id": "JnM9_BaCuh_T"
      },
      "execution_count": 4,
      "outputs": []
    },
    {
      "cell_type": "code",
      "source": [
        "%cd /content/dataset\n",
        "!unzip -qq \"/content/drive/MyDrive/data.zip\""
      ],
      "metadata": {
        "colab": {
          "base_uri": "https://localhost:8080/"
        },
        "id": "vNeRJoR0Fd64",
        "outputId": "2fc15410-af5b-4003-a683-9ec294d9ff63"
      },
      "execution_count": 5,
      "outputs": [
        {
          "output_type": "stream",
          "name": "stdout",
          "text": [
            "/content/dataset\n"
          ]
        }
      ]
    },
    {
      "cell_type": "code",
      "source": [
        "!pip install imutils"
      ],
      "metadata": {
        "colab": {
          "base_uri": "https://localhost:8080/"
        },
        "id": "n1jM9ZyfFkcl",
        "outputId": "956962b0-3101-42d5-b0ff-71483be026a7"
      },
      "execution_count": 25,
      "outputs": [
        {
          "output_type": "stream",
          "name": "stdout",
          "text": [
            "Requirement already satisfied: imutils in /usr/local/lib/python3.10/dist-packages (0.5.4)\n"
          ]
        }
      ]
    },
    {
      "cell_type": "code",
      "source": [
        "from imutils import paths"
      ],
      "metadata": {
        "id": "0IL2bYKRFmXy"
      },
      "execution_count": 26,
      "outputs": []
    },
    {
      "cell_type": "code",
      "source": [
        "# 디렉토리에 있는 모든 이미지의 경로를 찾아서 그 리스트를 정렬함.\n",
        "imagePaths = sorted(list(paths.list_images(\"/content/dataset/data\")))\n",
        "\n",
        "# random.seed(42) -> 난수 생성기의 초기값을 설정한다. 이렇게 하면 코드를 실행할 때마다 동일한 순서의 난수가 생성되어 결과의 재현서을 보장함.\n",
        "# random.suffle(imagePaths) -> 이미지 경로의 리스트를 무작위로 섞는다.\n",
        "random.seed(42)\n",
        "random.shuffle(imagePaths)\n",
        "\n",
        "data = []\n",
        "labels = []\n",
        "image_dims = (224, 224, 3) # 모든 이미지를 리사이즈할 크기를 설정함. (높이, 너비, 채널 수(RGB))\n",
        "\n",
        "# train 파일 경로 리스트를 순회하면서,\n",
        "# 각 이미지를 읽고, 설정한 크기로 리사이징한 후,\n",
        "# 이미지 데이터를 벼열로 변환함.\n",
        "# 그런 다음, 변환된 이미지 데이터를 data리스트에 추가함.\n",
        "# 이미지의 경로를 분석하여 레이블을 추출하고, 이를 labels리스트에 추가함.\n",
        "for imagePath in imagePaths:\n",
        "    image = cv2.imread(imagePath)\n",
        "    image = cv2.resize(image, (image_dims[1], image_dims[0]))\n",
        "    image = img_to_array(image)\n",
        "    data.append(image)\n",
        "    l = label = imagePath.split(os.path.sep)[-2].split(\" \")\n",
        "    labels.append(l)\n",
        "\n",
        "# data리스트를 Numpy배열로 변환하고 모든 픽셀 값을 0과 1 사이의 값으로 정규화함.\n",
        "# labels리스트도 Numpy배열로 변환함.\n",
        "data = np.array(data, dtype=\"float\") / 255.0\n",
        "labels = np.array(labels)\n",
        "print(\"{} images ({:.2f}MB)\".format(len(imagePaths), data.nbytes / (1024 * 1000.0)))"
      ],
      "metadata": {
        "colab": {
          "base_uri": "https://localhost:8080/"
        },
        "id": "DyleQTYDFo24",
        "outputId": "7a468d06-11c8-41ac-dbef-e2759689723f"
      },
      "execution_count": 27,
      "outputs": [
        {
          "output_type": "stream",
          "name": "stdout",
          "text": [
            "1907 images (2242.63MB)\n"
          ]
        }
      ]
    },
    {
      "cell_type": "code",
      "source": [
        "data = np.array(data)\n",
        "label = np.array(labels)\n",
        "print(data.shape)"
      ],
      "metadata": {
        "colab": {
          "base_uri": "https://localhost:8080/"
        },
        "id": "JY8Bsr4UF45S",
        "outputId": "d36d9c84-6b06-452f-da4d-2ca3d16ca94d"
      },
      "execution_count": 28,
      "outputs": [
        {
          "output_type": "stream",
          "name": "stdout",
          "text": [
            "(1907, 224, 224, 3)\n"
          ]
        }
      ]
    },
    {
      "cell_type": "code",
      "source": [
        "# MultiLabelBinarizer() -> 라벨 배열을 이진 형태의 배열로 변환하는데, 이는 멀티 라벨 분류 문제에 있어서 각 라벨의 존재 여부를 0과 1로 표현하는 방식임.\n",
        "mlb = MultiLabelBinarizer()\n",
        "labels = mlb.fit_transform(labels)\n",
        "# total 6 labels\n",
        "print(\"class labels:\")\n",
        "for (i, label) in enumerate(mlb.classes_):\n",
        "    print(\"{}. {}\".format(i + 1, label))"
      ],
      "metadata": {
        "colab": {
          "base_uri": "https://localhost:8080/"
        },
        "id": "CZI7or1nGCsa",
        "outputId": "9bfd9c05-9c02-4a64-b0dc-0539a4e5086d"
      },
      "execution_count": 29,
      "outputs": [
        {
          "output_type": "stream",
          "name": "stdout",
          "text": [
            "class labels:\n",
            "1. Firstdegreeburns\n",
            "2. Seconddegreeburns\n",
            "3. bedbugbite\n",
            "4. corn\n",
            "5. feetskinwart\n",
            "6. wart\n"
          ]
        }
      ]
    },
    {
      "cell_type": "code",
      "source": [
        "def MobileNetV2_model(learning_rate, input_shape,class_number):\n",
        "    baseModel = MobileNetV2(include_top=False, input_tensor=Input(shape=input_shape)) # MobileNetV2 모델을 불러온다.\n",
        "    for layer in baseModel.layers[:-3]:\n",
        "        layer.trainable = False\n",
        "\n",
        "    model = Sequential() # Sequential 모델을 생성\n",
        "    model.add(baseModel) # 위에서 생성한 MobileNetV2 모델을 첫 번째 층으로 추가함.\n",
        "    model.add(AveragePooling2D(pool_size=(2, 2))) # 평균 풀링 층을 추가합니다. 이는 특성 맵의 크기를 줄이는 데 사용됨.\n",
        "    model.add(Flatten()) # 특성 맵을 1차원 배열로 변환함.\n",
        "    model.add(Dense(512, activation=\"relu\")) # 512개의 뉴런을 가진 fully connected layer(Dense)를 추가하고, 활성화 함수로 ReLu를 사용함.\n",
        "    model.add(Dropout(0.4)) # 과적합을 방지하기 위해 드롭 아웃 층을 추가함. 0.5는 뉴런의 50%를 무작위로 0으로 설정함.\n",
        "    model.add(Dense(50, activation=\"relu\"))\n",
        "    model.add(Dropout(0.4))\n",
        "    model.add(Dense(class_number, activation='softmax')) # 최종층으로, 클래스의 수만큼 뉴런을 가진 Dense 층을 추가하고, softmax활성화 함수를 사용하여 출력을 확률로 변환함.\n",
        "\n",
        "    return model"
      ],
      "metadata": {
        "id": "ApP7tcEeGFT_"
      },
      "execution_count": 30,
      "outputs": []
    },
    {
      "cell_type": "code",
      "source": [
        "bs = 32\n",
        "lr = 0.0001\n",
        "size = (224, 224)\n",
        "shape = (224,224, 3)\n",
        "epochs = 10\n",
        "class_number = 6"
      ],
      "metadata": {
        "id": "D5GIUXlYGG6w"
      },
      "execution_count": 31,
      "outputs": []
    },
    {
      "cell_type": "code",
      "source": [
        "model = MobileNetV2_model(lr,shape,class_number)\n",
        "model.compile(loss= \"categorical_crossentropy\", metrics=[\"accuracy\"], optimizer=\"adam\")"
      ],
      "metadata": {
        "colab": {
          "base_uri": "https://localhost:8080/"
        },
        "id": "EXxrtDn8GIkU",
        "outputId": "2a59c655-3efe-43cf-c088-ddf6bf2a4c28"
      },
      "execution_count": 32,
      "outputs": [
        {
          "output_type": "stream",
          "name": "stderr",
          "text": [
            "WARNING:tensorflow:`input_shape` is undefined or non-square, or `rows` is not in [96, 128, 160, 192, 224]. Weights for input shape (224, 224) will be loaded as the default.\n"
          ]
        }
      ]
    },
    {
      "cell_type": "code",
      "source": [
        "trainX, testX, trainY, testY = train_test_split(data, labels, test_size=0.20)"
      ],
      "metadata": {
        "id": "_jfwFqUWGR4c"
      },
      "execution_count": 33,
      "outputs": []
    },
    {
      "cell_type": "code",
      "source": [
        "print(\"[INFO] training ...\")\n",
        "H = model.fit(trainX, trainY, batch_size=32,steps_per_epoch=len(trainX) // 32,\tvalidation_data=(testX, testY),\tvalidation_steps=len(testX) // 32,\tepochs=20)"
      ],
      "metadata": {
        "colab": {
          "base_uri": "https://localhost:8080/"
        },
        "id": "x3H3B4LhGVGD",
        "outputId": "17fa4efd-1ac3-45f4-a401-2d7c04ebd14f"
      },
      "execution_count": 34,
      "outputs": [
        {
          "output_type": "stream",
          "name": "stdout",
          "text": [
            "[INFO] training ...\n",
            "Epoch 1/20\n",
            "47/47 [==============================] - 10s 88ms/step - loss: 2.2875 - accuracy: 0.2015 - val_loss: 1.7795 - val_accuracy: 0.1534\n",
            "Epoch 2/20\n",
            "47/47 [==============================] - 3s 60ms/step - loss: 1.7597 - accuracy: 0.2579 - val_loss: 1.6629 - val_accuracy: 0.2415\n",
            "Epoch 3/20\n",
            "47/47 [==============================] - 3s 61ms/step - loss: 1.5394 - accuracy: 0.3737 - val_loss: 1.4197 - val_accuracy: 0.4290\n",
            "Epoch 4/20\n",
            "47/47 [==============================] - 3s 64ms/step - loss: 1.2912 - accuracy: 0.4990 - val_loss: 0.9812 - val_accuracy: 0.6420\n",
            "Epoch 5/20\n",
            "47/47 [==============================] - 3s 61ms/step - loss: 0.9520 - accuracy: 0.6423 - val_loss: 0.7626 - val_accuracy: 0.7017\n",
            "Epoch 6/20\n",
            "47/47 [==============================] - 3s 60ms/step - loss: 0.6982 - accuracy: 0.7428 - val_loss: 0.6955 - val_accuracy: 0.7386\n",
            "Epoch 7/20\n",
            "47/47 [==============================] - 3s 58ms/step - loss: 0.5917 - accuracy: 0.7964 - val_loss: 0.4481 - val_accuracy: 0.8324\n",
            "Epoch 8/20\n",
            "47/47 [==============================] - 3s 65ms/step - loss: 0.4049 - accuracy: 0.8634 - val_loss: 0.4173 - val_accuracy: 0.8466\n",
            "Epoch 9/20\n",
            "47/47 [==============================] - 3s 59ms/step - loss: 0.3259 - accuracy: 0.8841 - val_loss: 0.5245 - val_accuracy: 0.8182\n",
            "Epoch 10/20\n",
            "47/47 [==============================] - 3s 56ms/step - loss: 0.2182 - accuracy: 0.9344 - val_loss: 0.4487 - val_accuracy: 0.8892\n",
            "Epoch 11/20\n",
            "47/47 [==============================] - 3s 57ms/step - loss: 0.1907 - accuracy: 0.9511 - val_loss: 0.2761 - val_accuracy: 0.9148\n",
            "Epoch 12/20\n",
            "47/47 [==============================] - 3s 60ms/step - loss: 0.2230 - accuracy: 0.9397 - val_loss: 0.6673 - val_accuracy: 0.8210\n",
            "Epoch 13/20\n",
            "47/47 [==============================] - 3s 66ms/step - loss: 0.1707 - accuracy: 0.9491 - val_loss: 0.7241 - val_accuracy: 0.8409\n",
            "Epoch 14/20\n",
            "47/47 [==============================] - 3s 57ms/step - loss: 0.1469 - accuracy: 0.9585 - val_loss: 0.4117 - val_accuracy: 0.9006\n",
            "Epoch 15/20\n",
            "47/47 [==============================] - 3s 61ms/step - loss: 0.1243 - accuracy: 0.9605 - val_loss: 0.6035 - val_accuracy: 0.8807\n",
            "Epoch 16/20\n",
            "47/47 [==============================] - 3s 57ms/step - loss: 0.0724 - accuracy: 0.9752 - val_loss: 0.5353 - val_accuracy: 0.9034\n",
            "Epoch 17/20\n",
            "47/47 [==============================] - 3s 60ms/step - loss: 0.0672 - accuracy: 0.9853 - val_loss: 0.3202 - val_accuracy: 0.9489\n",
            "Epoch 18/20\n",
            "47/47 [==============================] - 3s 61ms/step - loss: 0.0739 - accuracy: 0.9745 - val_loss: 0.6948 - val_accuracy: 0.8750\n",
            "Epoch 19/20\n",
            "47/47 [==============================] - 3s 61ms/step - loss: 0.0566 - accuracy: 0.9859 - val_loss: 0.6508 - val_accuracy: 0.9006\n",
            "Epoch 20/20\n",
            "47/47 [==============================] - 3s 60ms/step - loss: 0.0534 - accuracy: 0.9853 - val_loss: 0.4250 - val_accuracy: 0.9318\n"
          ]
        }
      ]
    },
    {
      "cell_type": "code",
      "source": [
        "print(\"[INFO] evaluating network...\")\n",
        "predIdxs = model.predict(testX, batch_size=32)\n",
        "\n",
        "# for each image in the testing set we need to find the index of the label with corresponding largest predicted probability\n",
        "predIdxs = np.argmax(predIdxs, axis=1)\n",
        "\n",
        "# show a nicely formatted classification report\n",
        "print(classification_report(testY.argmax(axis=1), predIdxs,target_names=mlb.classes_))"
      ],
      "metadata": {
        "colab": {
          "base_uri": "https://localhost:8080/"
        },
        "id": "183ymfT8VSaV",
        "outputId": "dead13ec-1b58-4648-c554-f2c5d214f5a3"
      },
      "execution_count": 35,
      "outputs": [
        {
          "output_type": "stream",
          "name": "stdout",
          "text": [
            "[INFO] evaluating network...\n",
            "12/12 [==============================] - 1s 43ms/step\n",
            "                   precision    recall  f1-score   support\n",
            "\n",
            " Firstdegreeburns       0.84      0.94      0.89        82\n",
            "Seconddegreeburns       0.94      0.98      0.96        49\n",
            "       bedbugbite       0.95      0.75      0.83        71\n",
            "             corn       0.87      1.00      0.93        52\n",
            "     feetskinwart       0.99      0.95      0.97        73\n",
            "             wart       1.00      0.96      0.98        55\n",
            "\n",
            "         accuracy                           0.92       382\n",
            "        macro avg       0.93      0.93      0.93       382\n",
            "     weighted avg       0.93      0.92      0.92       382\n",
            "\n"
          ]
        }
      ]
    },
    {
      "cell_type": "code",
      "source": [
        "N = 20\n",
        "plt.style.use(\"ggplot\")\n",
        "plt.figure()\n",
        "plt.plot(np.arange(0, N), H.history[\"loss\"], label=\"train_loss\")\n",
        "plt.plot(np.arange(0, N), H.history[\"val_loss\"], label=\"val_loss\")\n",
        "plt.plot(np.arange(0, N), H.history[\"accuracy\"], label=\"train_acc\")\n",
        "plt.plot(np.arange(0, N), H.history[\"val_accuracy\"], label=\"val_acc\")\n",
        "plt.title(\"Training Loss and Accuracy\")\n",
        "plt.xlabel(\"Epoch #\")\n",
        "plt.ylabel(\"Loss/Accuracy\")\n",
        "plt.legend(loc=\"lower left\")"
      ],
      "metadata": {
        "colab": {
          "base_uri": "https://localhost:8080/",
          "height": 495
        },
        "id": "AyFty7u3da8p",
        "outputId": "71c0cbe0-09d5-44d5-cad9-9ed0c0fc5193"
      },
      "execution_count": 36,
      "outputs": [
        {
          "output_type": "execute_result",
          "data": {
            "text/plain": [
              "<matplotlib.legend.Legend at 0x798218299b40>"
            ]
          },
          "metadata": {},
          "execution_count": 36
        },
        {
          "output_type": "display_data",
          "data": {
            "text/plain": [
              "<Figure size 640x480 with 1 Axes>"
            ],
            "image/png": "[encoded data removed]"
          },
          "metadata": {}
        }
      ]
    },
    {
      "cell_type": "code",
      "source": [
        "image_path = \"/content/Seconddegreeburns_50.png\"\n",
        "image = cv2.imread(image_path)\n",
        "image = cv2.resize(image, (image_dims[1], image_dims[0]))\n",
        "image = img_to_array(image)\n",
        "image = np.expand_dims(image, axis=0)\n",
        "image = image / 255.0\n",
        "\n",
        "prediction = model.predict(image)\n",
        "predicted_class_index = np.argmax(prediction)\n",
        "predicted_class = mlb.classes_[predicted_class_index]\n",
        "\n",
        "print(f\"The predicted class is: {predicted_class}, {prediction}\")"
      ],
      "metadata": {
        "colab": {
          "base_uri": "https://localhost:8080/"
        },
        "id": "erHu1lCTtW94",
        "outputId": "b7900e64-b1bd-4843-ea26-8f130ba2b5fa"
      },
      "execution_count": 40,
      "outputs": [
        {
          "output_type": "stream",
          "name": "stdout",
          "text": [
            "1/1 [==============================] - 1s 1s/step\n",
            "The predicted class is: Seconddegreeburns, [[2.1058815e-18 1.0000000e+00 3.0123345e-21 2.3528555e-21 8.6218870e-16\n",
            "  6.0541876e-16]]\n"
          ]
        }
      ]
    },
    {
      "cell_type": "code",
      "source": [
        "import tensorflow as tf\n",
        "\n",
        "mobilenet_imagenet_model = tf.keras.applications.MobileNetV2(weights=\"imagenet\")\n",
        "\n",
        "converter = tf.lite.TFLiteConverter.from_keras_model(mobilenet_imagenet_model)\n",
        "tflite_model = converter.convert()\n",
        "\n",
        "with open('./mobilenet_imagenet_model.tflite','wb') as f:\n",
        "  f.write(tflite_model)"
      ],
      "metadata": {
        "id": "N7pKKDcqdpj5"
      },
      "execution_count": 38,
      "outputs": []
    },
    {
      "cell_type": "code",
      "source": [
        "# 모델을 TFLite 형식으로 변환\n",
        "\n",
        "converter = tf.lite.TFLiteConverter.from_keras_model(model)\n",
        "tflite_model = converter.convert()\n",
        "\n",
        "# 변환된 모델을 파일로 저장\n",
        "with open('/content/model.tflite', 'wb') as f:\n",
        "  f.write(tflite_model)"
      ],
      "metadata": {
        "colab": {
          "base_uri": "https://localhost:8080/"
        },
        "id": "wf8LPxhWjin_",
        "outputId": "7a5837f6-80af-48cd-aa54-d99f9a1d3992"
      },
      "execution_count": 39,
      "outputs": [
        {
          "output_type": "stream",
          "name": "stderr",
          "text": [
            "WARNING:absl:`mobilenetv2_1.00_224_input` is not a valid tf.function parameter name. Sanitizing to `mobilenetv2_1_00_224_input`.\n",
            "WARNING:absl:`mobilenetv2_1.00_224_input` is not a valid tf.function parameter name. Sanitizing to `mobilenetv2_1_00_224_input`.\n"
          ]
        }
      ]
    },
    {
      "cell_type": "code",
      "source": [],
      "metadata": {
        "id": "MIhXMr5tBYYR"
      },
      "execution_count": null,
      "outputs": []
    }
  ]
}